{
 "cells": [
  {
   "cell_type": "code",
   "execution_count": 1,
   "id": "6391380d",
   "metadata": {},
   "outputs": [],
   "source": [
    "import gym\n",
    "import gym_anytrading\n",
    "\n",
    "# Stable Baselines\n",
    "from stable_baselines3.common.vec_env import DummyVecEnv\n",
    "from stable_baselines3 import A2C"
   ]
  },
  {
   "cell_type": "code",
   "execution_count": 2,
   "id": "4d81dfba",
   "metadata": {
    "scrolled": true
   },
   "outputs": [],
   "source": [
    "# Processing Libraries\n",
    "import numpy as np\n",
    "import pandas as pd\n",
    "from matplotlib import pyplot as plt"
   ]
  },
  {
   "cell_type": "code",
   "execution_count": 3,
   "id": "301b3455",
   "metadata": {},
   "outputs": [],
   "source": [
    "xmr = '/Users/eee/tor/crypto/xmrusd.csv'"
   ]
  },
  {
   "cell_type": "code",
   "execution_count": 4,
   "id": "4c0f32ab",
   "metadata": {
    "scrolled": true
   },
   "outputs": [],
   "source": [
    "df = pd.read_csv(xmr)"
   ]
  },
  {
   "cell_type": "code",
   "execution_count": 5,
   "id": "2ea906dc",
   "metadata": {},
   "outputs": [],
   "source": [
    "df = df.reindex(index=df.index[::-1])"
   ]
  },
  {
   "cell_type": "code",
   "execution_count": 6,
   "id": "e2027526",
   "metadata": {
    "scrolled": true
   },
   "outputs": [],
   "source": [
    "df.set_index('time', inplace=True)"
   ]
  },
  {
   "cell_type": "code",
   "execution_count": 7,
   "id": "7738b1c5",
   "metadata": {},
   "outputs": [
    {
     "data": {
      "text/html": [
       "<div>\n",
       "<style scoped>\n",
       "    .dataframe tbody tr th:only-of-type {\n",
       "        vertical-align: middle;\n",
       "    }\n",
       "\n",
       "    .dataframe tbody tr th {\n",
       "        vertical-align: top;\n",
       "    }\n",
       "\n",
       "    .dataframe thead th {\n",
       "        text-align: right;\n",
       "    }\n",
       "</style>\n",
       "<table border=\"1\" class=\"dataframe\">\n",
       "  <thead>\n",
       "    <tr style=\"text-align: right;\">\n",
       "      <th></th>\n",
       "      <th>open</th>\n",
       "      <th>close</th>\n",
       "      <th>high</th>\n",
       "      <th>low</th>\n",
       "      <th>volume</th>\n",
       "    </tr>\n",
       "    <tr>\n",
       "      <th>time</th>\n",
       "      <th></th>\n",
       "      <th></th>\n",
       "      <th></th>\n",
       "      <th></th>\n",
       "      <th></th>\n",
       "    </tr>\n",
       "  </thead>\n",
       "  <tbody>\n",
       "    <tr>\n",
       "      <th>1623331920000</th>\n",
       "      <td>272.460</td>\n",
       "      <td>272.460</td>\n",
       "      <td>272.460</td>\n",
       "      <td>272.460</td>\n",
       "      <td>0.050000</td>\n",
       "    </tr>\n",
       "    <tr>\n",
       "      <th>1623331860000</th>\n",
       "      <td>273.080</td>\n",
       "      <td>273.080</td>\n",
       "      <td>273.080</td>\n",
       "      <td>273.080</td>\n",
       "      <td>3.011200</td>\n",
       "    </tr>\n",
       "    <tr>\n",
       "      <th>1623331800000</th>\n",
       "      <td>272.810</td>\n",
       "      <td>272.810</td>\n",
       "      <td>272.810</td>\n",
       "      <td>272.810</td>\n",
       "      <td>0.100000</td>\n",
       "    </tr>\n",
       "    <tr>\n",
       "      <th>1623331680000</th>\n",
       "      <td>273.420</td>\n",
       "      <td>272.330</td>\n",
       "      <td>273.420</td>\n",
       "      <td>272.330</td>\n",
       "      <td>4.789500</td>\n",
       "    </tr>\n",
       "    <tr>\n",
       "      <th>1623331440000</th>\n",
       "      <td>273.850</td>\n",
       "      <td>273.850</td>\n",
       "      <td>273.850</td>\n",
       "      <td>273.850</td>\n",
       "      <td>0.050000</td>\n",
       "    </tr>\n",
       "    <tr>\n",
       "      <th>...</th>\n",
       "      <td>...</td>\n",
       "      <td>...</td>\n",
       "      <td>...</td>\n",
       "      <td>...</td>\n",
       "      <td>...</td>\n",
       "    </tr>\n",
       "    <tr>\n",
       "      <th>1480531380000</th>\n",
       "      <td>8.000</td>\n",
       "      <td>8.000</td>\n",
       "      <td>8.000</td>\n",
       "      <td>8.000</td>\n",
       "      <td>76.671954</td>\n",
       "    </tr>\n",
       "    <tr>\n",
       "      <th>1480531260000</th>\n",
       "      <td>8.000</td>\n",
       "      <td>8.000</td>\n",
       "      <td>8.000</td>\n",
       "      <td>8.000</td>\n",
       "      <td>23.328046</td>\n",
       "    </tr>\n",
       "    <tr>\n",
       "      <th>1480531140000</th>\n",
       "      <td>7.833</td>\n",
       "      <td>7.968</td>\n",
       "      <td>7.968</td>\n",
       "      <td>7.833</td>\n",
       "      <td>51.000000</td>\n",
       "    </tr>\n",
       "    <tr>\n",
       "      <th>1480530900000</th>\n",
       "      <td>7.681</td>\n",
       "      <td>7.681</td>\n",
       "      <td>7.681</td>\n",
       "      <td>7.681</td>\n",
       "      <td>1.000000</td>\n",
       "    </tr>\n",
       "    <tr>\n",
       "      <th>1480530840000</th>\n",
       "      <td>7.649</td>\n",
       "      <td>7.649</td>\n",
       "      <td>7.649</td>\n",
       "      <td>7.649</td>\n",
       "      <td>0.100000</td>\n",
       "    </tr>\n",
       "  </tbody>\n",
       "</table>\n",
       "<p>900266 rows × 5 columns</p>\n",
       "</div>"
      ],
      "text/plain": [
       "                  open    close     high      low     volume\n",
       "time                                                        \n",
       "1623331920000  272.460  272.460  272.460  272.460   0.050000\n",
       "1623331860000  273.080  273.080  273.080  273.080   3.011200\n",
       "1623331800000  272.810  272.810  272.810  272.810   0.100000\n",
       "1623331680000  273.420  272.330  273.420  272.330   4.789500\n",
       "1623331440000  273.850  273.850  273.850  273.850   0.050000\n",
       "...                ...      ...      ...      ...        ...\n",
       "1480531380000    8.000    8.000    8.000    8.000  76.671954\n",
       "1480531260000    8.000    8.000    8.000    8.000  23.328046\n",
       "1480531140000    7.833    7.968    7.968    7.833  51.000000\n",
       "1480530900000    7.681    7.681    7.681    7.681   1.000000\n",
       "1480530840000    7.649    7.649    7.649    7.649   0.100000\n",
       "\n",
       "[900266 rows x 5 columns]"
      ]
     },
     "execution_count": 7,
     "metadata": {},
     "output_type": "execute_result"
    }
   ],
   "source": [
    "df"
   ]
  },
  {
   "cell_type": "code",
   "execution_count": 8,
   "id": "48946451",
   "metadata": {},
   "outputs": [
    {
     "data": {
      "text/plain": [
       "open      float64\n",
       "close     float64\n",
       "high      float64\n",
       "low       float64\n",
       "volume    float64\n",
       "dtype: object"
      ]
     },
     "execution_count": 8,
     "metadata": {},
     "output_type": "execute_result"
    }
   ],
   "source": [
    "df.dtypes"
   ]
  },
  {
   "cell_type": "code",
   "execution_count": 24,
   "id": "4b1a6623",
   "metadata": {},
   "outputs": [],
   "source": [
    "s = iter([df.index[z] for z in range(len(df))])"
   ]
  },
  {
   "cell_type": "code",
   "execution_count": 32,
   "id": "64b66db5",
   "metadata": {},
   "outputs": [
    {
     "data": {
      "text/plain": [
       "'1623330960'"
      ]
     },
     "execution_count": 32,
     "metadata": {},
     "output_type": "execute_result"
    }
   ],
   "source": [
    "str(next(s).item())[:-3]"
   ]
  },
  {
   "cell_type": "code",
   "execution_count": 189,
   "id": "58a008c1",
   "metadata": {},
   "outputs": [
    {
     "name": "stdout",
     "output_type": "stream",
     "text": [
      "2021-06-10 04:22:00\n"
     ]
    }
   ],
   "source": [
    "from datetime import datetime\n",
    "# ts = int(\"1623331920\")\n",
    "ts = int(str(next(s).item())[:-3])\n",
    "\n",
    "# if you encounter a \"year is out of range\" error the timestamp\n",
    "# may be in milliseconds, try `ts /= 1000` in that case\n",
    "print(datetime.fromtimestamp(ts).strftime('%Y-%m-%d %H:%M:%S'))"
   ]
  },
  {
   "cell_type": "code",
   "execution_count": null,
   "id": "219ac2e3",
   "metadata": {},
   "outputs": [],
   "source": []
  },
  {
   "cell_type": "code",
   "execution_count": null,
   "id": "b64f35e7",
   "metadata": {},
   "outputs": [],
   "source": [
    "env = gym.make('stocks-v0', df=df, frame_bound=(10,100), window_size=5)"
   ]
  },
  {
   "cell_type": "code",
   "execution_count": null,
   "id": "178e3c68",
   "metadata": {},
   "outputs": [],
   "source": []
  },
  {
   "cell_type": "code",
   "execution_count": null,
   "id": "8938d673",
   "metadata": {},
   "outputs": [],
   "source": []
  },
  {
   "cell_type": "code",
   "execution_count": null,
   "id": "feb3bf60",
   "metadata": {},
   "outputs": [],
   "source": []
  },
  {
   "cell_type": "code",
   "execution_count": null,
   "id": "de20aa9c",
   "metadata": {},
   "outputs": [],
   "source": []
  },
  {
   "cell_type": "code",
   "execution_count": null,
   "id": "63d2b74d",
   "metadata": {},
   "outputs": [],
   "source": []
  },
  {
   "cell_type": "code",
   "execution_count": null,
   "id": "4a595a55",
   "metadata": {},
   "outputs": [],
   "source": []
  },
  {
   "cell_type": "code",
   "execution_count": null,
   "id": "a1d57b3f",
   "metadata": {},
   "outputs": [],
   "source": []
  },
  {
   "cell_type": "code",
   "execution_count": 1,
   "id": "ea82712e",
   "metadata": {},
   "outputs": [],
   "source": [
    "import tensorflow"
   ]
  },
  {
   "cell_type": "code",
   "execution_count": 190,
   "id": "834d31e1",
   "metadata": {},
   "outputs": [],
   "source": [
    "from tensorflow.python.client import device_lib"
   ]
  },
  {
   "cell_type": "code",
   "execution_count": 191,
   "id": "fe06c59e",
   "metadata": {},
   "outputs": [],
   "source": [
    "def get_available_gpus():\n",
    "    local_device_protos = device_lib.list_local_devices()\n",
    "    return [x.name for x in local_device_protos]"
   ]
  },
  {
   "cell_type": "code",
   "execution_count": 192,
   "id": "38c69138",
   "metadata": {},
   "outputs": [
    {
     "data": {
      "text/plain": [
       "[name: \"/device:CPU:0\"\n",
       " device_type: \"CPU\"\n",
       " memory_limit: 268435456\n",
       " locality {\n",
       " }\n",
       " incarnation: 14389462738318376105,\n",
       " name: \"/device:GPU:0\"\n",
       " device_type: \"GPU\"\n",
       " memory_limit: 22723493888\n",
       " locality {\n",
       "   bus_id: 1\n",
       "   links {\n",
       "   }\n",
       " }\n",
       " incarnation: 16941601231816712821\n",
       " physical_device_desc: \"device: 0, name: NVIDIA GeForce RTX 3090, pci bus id: 0000:21:00.0, compute capability: 8.6\",\n",
       " name: \"/device:GPU:1\"\n",
       " device_type: \"GPU\"\n",
       " memory_limit: 22723493888\n",
       " locality {\n",
       "   bus_id: 1\n",
       "   links {\n",
       "   }\n",
       " }\n",
       " incarnation: 17963127326568102326\n",
       " physical_device_desc: \"device: 1, name: NVIDIA GeForce RTX 3090, pci bus id: 0000:29:00.0, compute capability: 8.6\",\n",
       " name: \"/device:GPU:2\"\n",
       " device_type: \"GPU\"\n",
       " memory_limit: 22723493888\n",
       " locality {\n",
       "   bus_id: 1\n",
       "   links {\n",
       "   }\n",
       " }\n",
       " incarnation: 6057114385820595855\n",
       " physical_device_desc: \"device: 2, name: NVIDIA GeForce RTX 3090, pci bus id: 0000:2b:00.0, compute capability: 8.6\",\n",
       " name: \"/device:GPU:3\"\n",
       " device_type: \"GPU\"\n",
       " memory_limit: 22723493888\n",
       " locality {\n",
       "   bus_id: 1\n",
       "   links {\n",
       "   }\n",
       " }\n",
       " incarnation: 13046989617744030213\n",
       " physical_device_desc: \"device: 3, name: NVIDIA GeForce RTX 3090, pci bus id: 0000:2c:00.0, compute capability: 8.6\",\n",
       " name: \"/device:GPU:4\"\n",
       " device_type: \"GPU\"\n",
       " memory_limit: 7801405440\n",
       " locality {\n",
       "   bus_id: 1\n",
       "   links {\n",
       "   }\n",
       " }\n",
       " incarnation: 15862980358466603878\n",
       " physical_device_desc: \"device: 4, name: NVIDIA GeForce RTX 3080, pci bus id: 0000:28:00.0, compute capability: 8.6\",\n",
       " name: \"/device:GPU:5\"\n",
       " device_type: \"GPU\"\n",
       " memory_limit: 7800356864\n",
       " locality {\n",
       "   bus_id: 1\n",
       "   links {\n",
       "   }\n",
       " }\n",
       " incarnation: 17252627620527440003\n",
       " physical_device_desc: \"device: 5, name: NVIDIA GeForce RTX 3080, pci bus id: 0000:2e:00.0, compute capability: 8.6\"]"
      ]
     },
     "execution_count": 192,
     "metadata": {},
     "output_type": "execute_result"
    }
   ],
   "source": [
    "device_lib.list_local_devices()"
   ]
  },
  {
   "cell_type": "code",
   "execution_count": 193,
   "id": "d0d0aa45",
   "metadata": {},
   "outputs": [
    {
     "data": {
      "text/plain": [
       "['/device:CPU:0',\n",
       " '/device:GPU:0',\n",
       " '/device:GPU:1',\n",
       " '/device:GPU:2',\n",
       " '/device:GPU:3',\n",
       " '/device:GPU:4',\n",
       " '/device:GPU:5']"
      ]
     },
     "execution_count": 193,
     "metadata": {},
     "output_type": "execute_result"
    }
   ],
   "source": [
    "get_available_gpus()"
   ]
  },
  {
   "cell_type": "code",
   "execution_count": null,
   "id": "4fc4d168",
   "metadata": {},
   "outputs": [],
   "source": [
    "!pip install tensorflow-gpu"
   ]
  },
  {
   "cell_type": "code",
   "execution_count": null,
   "id": "17a1c842",
   "metadata": {},
   "outputs": [],
   "source": [
    "tensorflow.test.gpu_device_name()"
   ]
  },
  {
   "cell_type": "code",
   "execution_count": null,
   "id": "d74d0908",
   "metadata": {},
   "outputs": [],
   "source": [
    "tensorflow.__version__"
   ]
  },
  {
   "cell_type": "code",
   "execution_count": null,
   "id": "1afb0ce7",
   "metadata": {},
   "outputs": [],
   "source": []
  }
 ],
 "metadata": {
  "kernelspec": {
   "display_name": "Python 3",
   "language": "python",
   "name": "python3"
  },
  "language_info": {
   "codemirror_mode": {
    "name": "ipython",
    "version": 3
   },
   "file_extension": ".py",
   "mimetype": "text/x-python",
   "name": "python",
   "nbconvert_exporter": "python",
   "pygments_lexer": "ipython3",
   "version": "3.9.4"
  }
 },
 "nbformat": 4,
 "nbformat_minor": 5
}
